{
  "nbformat": 4,
  "nbformat_minor": 0,
  "metadata": {
    "colab": {
      "provenance": []
    },
    "kernelspec": {
      "name": "python3",
      "display_name": "Python 3"
    },
    "language_info": {
      "name": "python"
    }
  },
  "cells": [
    {
      "cell_type": "code",
      "execution_count": 17,
      "metadata": {
        "id": "96zxDP3Zsatp"
      },
      "outputs": [],
      "source": [
        "import numpy as np\n",
        "vector = np.random.randint(1, 21, size=15)\n"
      ]
    },
    {
      "cell_type": "code",
      "source": [
        "reshaped_vector = vector.reshape(3, 5)\n",
        "reshaped_vector\n"
      ],
      "metadata": {
        "colab": {
          "base_uri": "https://localhost:8080/"
        },
        "id": "wRUDTwvtvsZD",
        "outputId": "d83d9b20-0e10-4d12-ce3f-d88345420f90"
      },
      "execution_count": 18,
      "outputs": [
        {
          "output_type": "execute_result",
          "data": {
            "text/plain": [
              "array([[11, 13, 16,  3, 18],\n",
              "       [ 5, 16, 14,  6, 14],\n",
              "       [ 3, 20, 18,  7,  5]])"
            ]
          },
          "metadata": {},
          "execution_count": 18
        }
      ]
    },
    {
      "cell_type": "code",
      "source": [
        "shape = reshaped_vector.shape\n",
        "print(shape)"
      ],
      "metadata": {
        "colab": {
          "base_uri": "https://localhost:8080/"
        },
        "id": "IaCC7Jz6xuGy",
        "outputId": "32c3f977-e2e5-44b4-9ab1-759c9abede4c"
      },
      "execution_count": 19,
      "outputs": [
        {
          "output_type": "stream",
          "name": "stdout",
          "text": [
            "(3, 5)\n"
          ]
        }
      ]
    },
    {
      "cell_type": "code",
      "source": [
        "for i in range(reshaped_vector.shape[0]):\n",
        "    max_index = reshaped_vector[i].argmax()  # Find the index of the maximum value in the current row\n",
        "    reshaped_vector[i, max_index] = 0  # Replace the maximum value with 0\n",
        "\n",
        "print(reshaped_vector)\n",
        "\n",
        "\n"
      ],
      "metadata": {
        "colab": {
          "base_uri": "https://localhost:8080/"
        },
        "id": "La0oPncC-CAZ",
        "outputId": "c589fb23-cedd-407d-a648-5f095daf6b75"
      },
      "execution_count": 20,
      "outputs": [
        {
          "output_type": "stream",
          "name": "stdout",
          "text": [
            "[[11 13 16  3  0]\n",
            " [ 5  0 14  6 14]\n",
            " [ 3  0 18  7  5]]\n"
          ]
        }
      ]
    },
    {
      "cell_type": "code",
      "source": [],
      "metadata": {
        "id": "jmLZsb7gCDKh"
      },
      "execution_count": null,
      "outputs": []
    },
    {
      "cell_type": "markdown",
      "source": [
        "B"
      ],
      "metadata": {
        "id": "I6eW7hSHCHeH"
      }
    },
    {
      "cell_type": "code",
      "source": [
        "array_2d = np.zeros((4, 3), dtype=np.int32)\n",
        "array_2d"
      ],
      "metadata": {
        "colab": {
          "base_uri": "https://localhost:8080/"
        },
        "id": "1f7tc_20CIVt",
        "outputId": "0425d15b-cba3-4fe4-f6f1-b01b7b019d88"
      },
      "execution_count": 21,
      "outputs": [
        {
          "output_type": "execute_result",
          "data": {
            "text/plain": [
              "array([[0, 0, 0],\n",
              "       [0, 0, 0],\n",
              "       [0, 0, 0],\n",
              "       [0, 0, 0]], dtype=int32)"
            ]
          },
          "metadata": {},
          "execution_count": 21
        }
      ]
    },
    {
      "cell_type": "code",
      "source": [
        "shape = array_2d.shape\n",
        "type = type(array_2d)\n",
        "dtype = array_2d.dtype\n"
      ],
      "metadata": {
        "id": "WWwnJRnRCe6Z"
      },
      "execution_count": 24,
      "outputs": []
    },
    {
      "cell_type": "markdown",
      "source": [
        "B"
      ],
      "metadata": {
        "id": "6zOSyJDCDDlx"
      }
    },
    {
      "cell_type": "code",
      "source": [
        "a = np.array([[3, -2], [1, 0]])\n"
      ],
      "metadata": {
        "id": "3yp88HuWDEr5"
      },
      "execution_count": 26,
      "outputs": []
    },
    {
      "cell_type": "code",
      "source": [
        "eigenvalues, eigenvectors = np.linalg.eig(a)\n"
      ],
      "metadata": {
        "id": "-9VDJTkvDLMn"
      },
      "execution_count": 28,
      "outputs": []
    },
    {
      "cell_type": "markdown",
      "source": [
        "C"
      ],
      "metadata": {
        "id": "vCZzzVUwDX9d"
      }
    },
    {
      "cell_type": "markdown",
      "source": [],
      "metadata": {
        "id": "KqIMaVveDbDu"
      }
    },
    {
      "cell_type": "code",
      "source": [
        "a1 = np.array([[0, 12], [3, 4]])\n"
      ],
      "metadata": {
        "id": "ukcRUEcYDfJU"
      },
      "execution_count": 29,
      "outputs": []
    },
    {
      "cell_type": "code",
      "source": [
        "diagonal_sum = np.trace(a1)\n"
      ],
      "metadata": {
        "id": "CRs7hMV0DlEu"
      },
      "execution_count": 30,
      "outputs": []
    },
    {
      "cell_type": "markdown",
      "source": [
        "D"
      ],
      "metadata": {
        "id": "lT00hqZUDqOB"
      }
    },
    {
      "cell_type": "code",
      "source": [
        "a2 = np.array([[12, 3], [4, 5], [6, 7]])\n"
      ],
      "metadata": {
        "id": "ETLBLnY9DrTR"
      },
      "execution_count": 31,
      "outputs": []
    },
    {
      "cell_type": "code",
      "source": [
        "modified_array = a2.reshape(2, 3)\n",
        "modified_array"
      ],
      "metadata": {
        "colab": {
          "base_uri": "https://localhost:8080/"
        },
        "id": "LkeJXty8DwI_",
        "outputId": "47d2e7c9-c151-451d-fc63-2595205f6d47"
      },
      "execution_count": 33,
      "outputs": [
        {
          "output_type": "execute_result",
          "data": {
            "text/plain": [
              "array([[12,  3,  4],\n",
              "       [ 5,  6,  7]])"
            ]
          },
          "metadata": {},
          "execution_count": 33
        }
      ]
    }
  ]
}