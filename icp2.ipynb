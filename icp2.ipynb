{
  "nbformat": 4,
  "nbformat_minor": 0,
  "metadata": {
    "colab": {
      "provenance": []
    },
    "kernelspec": {
      "name": "python3",
      "display_name": "Python 3"
    },
    "language_info": {
      "name": "python"
    }
  },
  "cells": [
    {
      "cell_type": "code",
      "execution_count": 1,
      "metadata": {
        "colab": {
          "base_uri": "https://localhost:8080/"
        },
        "id": "-hRJ38fXL4xm",
        "outputId": "6684743e-b911-49a7-a713-c4ebe46a15bc"
      },
      "outputs": [
        {
          "output_type": "stream",
          "name": "stdout",
          "text": [
            "*\n",
            "**\n",
            "***\n",
            "****\n",
            "*****\n",
            "****\n",
            "***\n",
            "**\n",
            "*\n"
          ]
        }
      ],
      "source": [
        "def star_pattern(n):\n",
        "    # Print the regular pattern\n",
        "    for i in range(n):\n",
        "        for j in range(i + 1):\n",
        "            print('*', end='')\n",
        "        print('')\n",
        "\n",
        "    # Print the reverse pattern\n",
        "    for i in range(n - 1, 0, -1):\n",
        "        for j in range(i):\n",
        "            print('*', end='')\n",
        "        print('')\n",
        "\n",
        "star_pattern(5)\n"
      ]
    },
    {
      "cell_type": "code",
      "source": [
        "my_list = [10, 20, 30, 40, 50, 60, 70, 80, 90, 100]\n",
        "\n",
        "# Function to output elements at odd indexes\n",
        "def odd_index_elements(lst):\n",
        "    result = []\n",
        "    for i in range(len(lst)):\n",
        "        if i % 2 != 0:\n",
        "            result.append(lst[i])\n",
        "    return result\n",
        "\n",
        "# Print the elements at odd indexes\n",
        "print(odd_index_elements(my_list))"
      ],
      "metadata": {
        "colab": {
          "base_uri": "https://localhost:8080/"
        },
        "id": "obs4HZ0iM4K0",
        "outputId": "6faad3f8-b613-4a19-81a5-39a2bf442bd6"
      },
      "execution_count": 2,
      "outputs": [
        {
          "output_type": "stream",
          "name": "stdout",
          "text": [
            "[20, 40, 60, 80, 100]\n"
          ]
        }
      ]
    },
    {
      "cell_type": "code",
      "source": [
        "# Given list\n",
        "x = [23, 'Python', 23.98]\n",
        "\n",
        "# Function to append types of elements\n",
        "def append_types(lst):\n",
        "    types_list = [type(item) for item in lst]\n",
        "    return lst, types_list\n",
        "\n",
        "elements, types = append_types(x)\n",
        "print(elements)\n",
        "print(types)\n"
      ],
      "metadata": {
        "colab": {
          "base_uri": "https://localhost:8080/"
        },
        "id": "ijxCiH0AM9i1",
        "outputId": "7cf38ddb-3043-4c87-afe3-f699259cccf7"
      },
      "execution_count": 3,
      "outputs": [
        {
          "output_type": "stream",
          "name": "stdout",
          "text": [
            "[23, 'Python', 23.98]\n",
            "[<class 'int'>, <class 'str'>, <class 'float'>]\n"
          ]
        }
      ]
    },
    {
      "cell_type": "code",
      "source": [
        "sample_list = [1, 2, 3, 3, 3, 3, 4, 5]\n",
        "\n",
        "# Function to return unique items\n",
        "def unique_items(lst):\n",
        "    return list(set(lst))\n",
        "\n",
        "print(unique_items(sample_list))"
      ],
      "metadata": {
        "colab": {
          "base_uri": "https://localhost:8080/"
        },
        "id": "ezTS2Q8TNiaA",
        "outputId": "715d4049-bbea-4446-c409-20aacfbe6d21"
      },
      "execution_count": 4,
      "outputs": [
        {
          "output_type": "stream",
          "name": "stdout",
          "text": [
            "[1, 2, 3, 4, 5]\n"
          ]
        }
      ]
    },
    {
      "cell_type": "code",
      "source": [
        "\n",
        "input_string = 'The quick Brow Fox'\n",
        "\n",
        "# Function to count upper and lower case letters\n",
        "def count_case(s):\n",
        "    upper_case = sum(1 for c in s if c.isupper())\n",
        "    lower_case = sum(1 for c in s if c.islower())\n",
        "    return upper_case, lower_case\n",
        "\n",
        "upper, lower = count_case(input_string)\n",
        "print(f'No. of Upper-case characters: {upper}')\n",
        "print(f'No. of Lower-case Characters: {lower}')\n"
      ],
      "metadata": {
        "colab": {
          "base_uri": "https://localhost:8080/"
        },
        "id": "GCpSaIM8OFSu",
        "outputId": "2a55fe94-567c-45d7-a02d-d750aec9a34a"
      },
      "execution_count": 5,
      "outputs": [
        {
          "output_type": "stream",
          "name": "stdout",
          "text": [
            "No. of Upper-case characters: 3\n",
            "No. of Lower-case Characters: 12\n"
          ]
        }
      ]
    },
    {
      "cell_type": "code",
      "source": [],
      "metadata": {
        "id": "8ZuALfAbOH22"
      },
      "execution_count": null,
      "outputs": []
    }
  ]
}